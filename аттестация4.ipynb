{
 "cells": [
  {
   "cell_type": "code",
   "execution_count": 5,
   "metadata": {},
   "outputs": [
    {
     "name": "stdout",
     "output_type": "stream",
     "text": [
      "Лучшие параметры: {'classifier__max_depth': 5, 'classifier__n_estimators': 50}\n",
      "Лучшее качество: 0.8159657244164287\n",
      "best_index_: 6\n"
     ]
    }
   ],
   "source": [
    "import pandas as pd\n",
    "import seaborn as sns\n",
    "from sklearn.pipeline import Pipeline\n",
    "from sklearn.compose import ColumnTransformer\n",
    "from sklearn.impute import SimpleImputer\n",
    "from sklearn.preprocessing import OneHotEncoder, StandardScaler\n",
    "from sklearn.ensemble import RandomForestClassifier\n",
    "from sklearn.model_selection import train_test_split, GridSearchCV\n",
    "\n",
    "# 1. Загрузка данных\n",
    "data = sns.load_dataset('titanic')\n",
    "\n",
    "# 2. Определение признаков\n",
    "numeric_features = ['age', 'fare']\n",
    "categorical_features = ['sex', 'embarked', 'pclass', 'sibsp', 'parch']\n",
    "\n",
    "# 3. Создание Pipeline для обработки данных\n",
    "preprocess_pipeline = ColumnTransformer(\n",
    "    transformers=[\n",
    "        ('num', Pipeline([\n",
    "            ('imputer', SimpleImputer(strategy='median')),\n",
    "            ('scaler', StandardScaler())\n",
    "        ]), numeric_features),\n",
    "        ('cat', Pipeline([\n",
    "            ('imputer', SimpleImputer(strategy='most_frequent')),\n",
    "            ('onehot', OneHotEncoder(handle_unknown='ignore'))\n",
    "        ]), categorical_features)\n",
    "    ]\n",
    ")\n",
    "\n",
    "\n",
    "# 4. Разделение данных на признаки и целевую переменную\n",
    "X = data.drop('survived', axis=1)\n",
    "y = data['survived']\n",
    "\n",
    "# 5. Разделение данных на обучающую и тестовую выборки\n",
    "X_train, X_test, y_train, y_test = train_test_split(X, y, test_size=0.2, random_state=42)\n",
    "\n",
    "# 6. Применение Pipeline к данным\n",
    "X_train_processed = preprocess_pipeline.fit_transform(X_train)\n",
    "X_test_processed = preprocess_pipeline.transform(X_test)\n",
    "\n",
    "# 7. Построение модели\n",
    "model = Pipeline([\n",
    "    ('classifier', RandomForestClassifier())\n",
    "])\n",
    "\n",
    "# 8. Подбор гиперпараметров\n",
    "param_grid = {\n",
    "    'classifier__n_estimators': [10, 50, 100, 200, 300],\n",
    "    'classifier__max_depth': [3, 5, 10, 15]\n",
    "}\n",
    "\n",
    "grid_search = GridSearchCV(model, param_grid, cv=5)\n",
    "grid_search.fit(X_train_processed, y_train)\n",
    "\n",
    "# 9. Оценка модели\n",
    "print(f\"Лучшие параметры: {grid_search.best_params_}\")\n",
    "print(f\"Лучшее качество: {grid_search.best_score_}\")\n",
    "print(f\"best_index_: {grid_search.best_index_}\")\n"
   ]
  }
 ],
 "metadata": {
  "kernelspec": {
   "display_name": "Python 3",
   "language": "python",
   "name": "python3"
  },
  "language_info": {
   "codemirror_mode": {
    "name": "ipython",
    "version": 3
   },
   "file_extension": ".py",
   "mimetype": "text/x-python",
   "name": "python",
   "nbconvert_exporter": "python",
   "pygments_lexer": "ipython3",
   "version": "3.11.6"
  }
 },
 "nbformat": 4,
 "nbformat_minor": 2
}
