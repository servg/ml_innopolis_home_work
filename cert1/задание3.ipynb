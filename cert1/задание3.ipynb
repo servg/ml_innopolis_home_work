{
 "cells": [
  {
   "cell_type": "code",
   "execution_count": null,
   "metadata": {},
   "outputs": [],
   "source": [
    "%pip install seaborn\n",
    "%pip install pandas"
   ]
  },
  {
   "cell_type": "code",
   "execution_count": 5,
   "metadata": {},
   "outputs": [
    {
     "name": "stdout",
     "output_type": "stream",
     "text": [
      "Первые 5 строк DataFrame:\n",
      "   survived  pclass     sex   age  sibsp  parch     fare embarked  class  \\\n",
      "0         0       3    male  22.0      1      0   7.2500        S  Third   \n",
      "1         1       1  female  38.0      1      0  71.2833        C  First   \n",
      "2         1       3  female  26.0      0      0   7.9250        S  Third   \n",
      "3         1       1  female  35.0      1      0  53.1000        S  First   \n",
      "4         0       3    male  35.0      0      0   8.0500        S  Third   \n",
      "\n",
      "     who  adult_male deck  embark_town alive  alone  \n",
      "0    man        True  NaN  Southampton    no  False  \n",
      "1  woman       False    C    Cherbourg   yes  False  \n",
      "2  woman       False  NaN  Southampton   yes   True  \n",
      "3  woman       False    C  Southampton   yes  False  \n",
      "4    man        True  NaN  Southampton    no   True  \n",
      "\n",
      "Обновленный DataFrame:\n",
      "   survived  pclass     sex   age  sibsp  parch     fare embarked  class  \\\n",
      "0         0       3    male  22.0      1      0   7.2500        S  Third   \n",
      "1         1       1  female  38.0      1      0  71.2833        C  First   \n",
      "2         1       3  female  26.0      0      0   7.9250        S  Third   \n",
      "3         1       1  female  35.0      1      0  53.1000        S  First   \n",
      "4         0       3    male  35.0      0      0   8.0500        S  Third   \n",
      "\n",
      "     who  adult_male deck  embark_town alive  alone age_category  \n",
      "0    man        True  NaN  Southampton    no  False        Adult  \n",
      "1  woman       False    C    Cherbourg   yes  False        Adult  \n",
      "2  woman       False  NaN  Southampton   yes   True        Adult  \n",
      "3  woman       False    C  Southampton   yes  False        Adult  \n",
      "4    man        True  NaN  Southampton    no   True        Adult  \n"
     ]
    }
   ],
   "source": [
    "\n",
    "import seaborn as sns\n",
    "import pandas as pd\n",
    "\n",
    "# 1. Выведите первые 5 строки DataFrame\n",
    "titanic = sns.load_dataset(\"titanic\")\n",
    "print(\"Первые 5 строк DataFrame:\")\n",
    "print(titanic.head(5))\n",
    "\n",
    "# 2. Замените все пропущенные значения в столбце 'age' средним значением по этому столбцу\n",
    "mean_age = titanic['age'].mean()\n",
    "titanic['age'] = titanic['age'].fillna(mean_age)\n",
    "\n",
    "# 3. Создайте новый столбец 'age_category', который будет содержать категориальные значения \"Child\", \"Adult\" и \"Senior\" на основе возраста (age)\n",
    "titanic['age_category'] = pd.cut(titanic['age'], bins=[-1, 18, 65, float('inf')], labels=['Child', 'Adult', 'Senior'])\n",
    "\n",
    "print(\"\\nОбновленный DataFrame:\")\n",
    "print(titanic.head())"
   ]
  }
 ],
 "metadata": {
  "kernelspec": {
   "display_name": "Python 3",
   "language": "python",
   "name": "python3"
  },
  "language_info": {
   "codemirror_mode": {
    "name": "ipython",
    "version": 3
   },
   "file_extension": ".py",
   "mimetype": "text/x-python",
   "name": "python",
   "nbconvert_exporter": "python",
   "pygments_lexer": "ipython3",
   "version": "3.11.6"
  }
 },
 "nbformat": 4,
 "nbformat_minor": 2
}
