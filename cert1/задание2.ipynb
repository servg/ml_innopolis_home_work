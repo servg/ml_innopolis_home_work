{
 "cells": [
  {
   "cell_type": "code",
   "execution_count": 2,
   "metadata": {},
   "outputs": [],
   "source": [
    "def count_chars(string):\n",
    "    \"\"\"\n",
    "    Принимает строку и возвращает словарь, где ключами являются символы строки,\n",
    "    а значениями - количество их вхождений в строку.\n",
    "    \n",
    "    Args:\n",
    "        string (str): Входная строка.\n",
    "    \n",
    "    Returns:\n",
    "        dict: Словарь, где ключами являются символы строки, а значениями - количество их вхождений.\n",
    "    \"\"\"\n",
    "    char_count = {}\n",
    "    for char in string:\n",
    "        if char in char_count:\n",
    "            char_count[char] += 1\n",
    "        else:\n",
    "            char_count[char] = 1\n",
    "    return char_count"
   ]
  },
  {
   "cell_type": "code",
   "execution_count": 4,
   "metadata": {},
   "outputs": [
    {
     "name": "stdout",
     "output_type": "stream",
     "text": [
      "{'H': 1, 'e': 1, 'l': 3, 'o': 2, ',': 1, ' ': 4, 'W': 1, 'r': 1, 'd': 1, '!': 2, 'П': 1, 'р': 2, 'и': 2, 'в': 1, 'е': 1, 'т': 1, 'м': 1, '1': 5}\n"
     ]
    },
    {
     "ename": "",
     "evalue": "",
     "output_type": "error",
     "traceback": [
      "\u001b[1;31mThe Kernel crashed while executing code in the current cell or a previous cell. \n",
      "\u001b[1;31mPlease review the code in the cell(s) to identify a possible cause of the failure. \n",
      "\u001b[1;31mClick <a href='https://aka.ms/vscodeJupyterKernelCrash'>here</a> for more info. \n",
      "\u001b[1;31mView Jupyter <a href='command:jupyter.viewOutput'>log</a> for further details."
     ]
    }
   ],
   "source": [
    "input_string = \"Hello, World! Привет мир! 11111\"\n",
    "char_counts = count_chars(input_string)\n",
    "print(char_counts)"
   ]
  }
 ],
 "metadata": {
  "kernelspec": {
   "display_name": "Python 3",
   "language": "python",
   "name": "python3"
  },
  "language_info": {
   "codemirror_mode": {
    "name": "ipython",
    "version": 3
   },
   "file_extension": ".py",
   "mimetype": "text/x-python",
   "name": "python",
   "nbconvert_exporter": "python",
   "pygments_lexer": "ipython3",
   "version": "3.11.6"
  }
 },
 "nbformat": 4,
 "nbformat_minor": 2
}
